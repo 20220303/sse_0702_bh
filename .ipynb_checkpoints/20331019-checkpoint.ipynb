{
 "cells": [
  {
   "cell_type": "markdown",
   "id": "5be5638a",
   "metadata": {},
   "source": [
    "# 10.同时运行 N 台电脑的最长时间"
   ]
  },
  {
   "cell_type": "markdown",
   "id": "756fa5d2",
   "metadata": {},
   "source": [
    "### 步骤一：引入库"
   ]
  },
  {
   "cell_type": "code",
   "execution_count": 101,
   "id": "217af8d1",
   "metadata": {},
   "outputs": [],
   "source": [
    "import numpy as np"
   ]
  },
  {
   "cell_type": "markdown",
   "id": "e99c1ddb",
   "metadata": {},
   "source": [
    "### 步骤二：思路"
   ]
  },
  {
   "cell_type": "markdown",
   "id": "3919d2cc",
   "metadata": {},
   "source": [
    "先将数组排序，然后假设有N台电脑，有M块电池  \n",
    "\n",
    "1.N>M,则为0  \n",
    "2.将数组排序  \n",
    "3.按顺序从M数组的最小的N个提出来  \n",
    "4.N个中每一个减去其中最小的元素，总的使用时间加上这个最小元素  \n",
    "5.N在M中右移直到最小位不是零，【右移一位也行，就是慢一点】  \n",
    "6.如果N最右边已经到达了最大，那么就减去最小的元素值就结束了  \n",
    "7.最后的到N台电脑的最长使用时间  "
   ]
  },
  {
   "cell_type": "markdown",
   "id": "a7d6cd41",
   "metadata": {},
   "source": [
    "### 步骤三：排序算法"
   ]
  },
  {
   "cell_type": "code",
   "execution_count": 102,
   "id": "cfdc147d",
   "metadata": {},
   "outputs": [],
   "source": [
    "#先采用冒泡排序,采用start，end的部分排序\n",
    "#修改冒泡排序中的功能,使其能够消耗电池中的电量\n",
    "\n",
    "def bubbleSort(nums):\n",
    "    for i in range(start,len(nums)):    \n",
    "        for j in range(start,len(nums)-i-1):\n",
    "            if nums[j] > nums[j+1]:\n",
    "                nums[j], nums[j+1] = nums[j+1], nums[j]\n",
    "    return nums\n"
   ]
  },
  {
   "cell_type": "markdown",
   "id": "703d2bbd",
   "metadata": {},
   "source": [
    "### 步骤四：消耗电池电量"
   ]
  },
  {
   "cell_type": "code",
   "execution_count": 103,
   "id": "7757ac75",
   "metadata": {},
   "outputs": [],
   "source": [
    "def use_battery(nums,start,end):\n",
    "    min_battery = nums[start]\n",
    "    for i in range(start,end):    \n",
    "        nums[i] = nums[i] - min_battery\n",
    "    return min_battery"
   ]
  },
  {
   "cell_type": "markdown",
   "id": "ec54118e",
   "metadata": {},
   "source": [
    "### 步骤五：计算"
   ]
  },
  {
   "cell_type": "code",
   "execution_count": 104,
   "id": "325466e3",
   "metadata": {},
   "outputs": [
    {
     "name": "stdout",
     "output_type": "stream",
     "text": [
      "根据电量排序好的电池： [0, 1, 2, 3, 6, 8, 9]\n",
      "更换电源： [0, 1, 2, 3, 6, 8, 9]\n",
      "更换电源： [0, 0, 1, 2, 6, 8, 9]\n",
      "更换电源： [0, 0, 0, 1, 5, 8, 9]\n",
      "更换电源： [0, 0, 0, 0, 4, 7, 9]\n",
      "更换电源： [0, 0, 0, 0, 0, 3, 5]\n",
      "同时运行 3 台电脑的最长时间: 7\n"
     ]
    }
   ],
   "source": [
    "#设计算法\n",
    "\n",
    "N = 3\n",
    "M = [6,8,3,2,9,1,0]\n",
    "# M = [2,3,4,1,5,6]\n",
    "start = 0\n",
    "\n",
    "print(\"根据电量排序好的电池：\",bubbleSort(M))\n",
    "sum_use = 0\n",
    "while((start+N) <= len(M)):\n",
    "    sum_use += use_battery(M,start,start+N)\n",
    "    print(\"更换电源：\",bubbleSort(M))\n",
    "    start += 1\n",
    "\n",
    "    \n",
    "print(\"同时运行\",N ,\"台电脑的最长时间:\",sum_use)"
   ]
  },
  {
   "cell_type": "markdown",
   "id": "d51c03ab",
   "metadata": {},
   "source": [
    "### 步骤六：思路有错，更换思路"
   ]
  },
  {
   "cell_type": "markdown",
   "id": "b6d7f8a2",
   "metadata": {},
   "source": [
    "先将数组排序，然后假设有N台电脑，有M块电池  \n",
    "\n",
    "1.N>M,则为0  \n",
    "2.将数组排序  \n",
    "3.按顺序从M数组的最 大 的N个提出来【这里变成最大的N个】  \n",
    "4.N个中每一个减去其中最小的元素，总的使用时间加上这个最小元素  \n",
    "5.直到M中没有N个有电的电池  \n",
    "6.最后的到N台电脑的最长使用时间  "
   ]
  },
  {
   "cell_type": "code",
   "execution_count": 107,
   "id": "771ddff1",
   "metadata": {},
   "outputs": [
    {
     "name": "stdout",
     "output_type": "stream",
     "text": [
      "根据电量排序好的电池： [1, 2, 3, 4, 5, 6]\n",
      "更换电源： [0, 1, 1, 2, 2, 3]\n",
      "更换电源： [0, 0, 1, 1, 1, 2]\n",
      "更换电源： [0, 0, 0, 0, 0, 1]\n",
      "同时运行 4 台电脑的最长时间: 5\n"
     ]
    }
   ],
   "source": [
    "N = 4\n",
    "# M = [6,8,3,2,9,1,0]\n",
    "M = [2,3,4,1,5,6]\n",
    "start = 0\n",
    "\n",
    "print(\"根据电量排序好的电池：\",bubbleSort(M))\n",
    "sum_use = 0\n",
    "while(M[len(M)-N]):\n",
    "    sum_use += use_battery(M,len(M)-N,len(M))\n",
    "    print(\"更换电源：\",bubbleSort(M))\n",
    "   \n",
    "print(\"同时运行\",N ,\"台电脑的最长时间:\",sum_use)"
   ]
  },
  {
   "cell_type": "code",
   "execution_count": null,
   "id": "d5abaf94",
   "metadata": {},
   "outputs": [],
   "source": []
  }
 ],
 "metadata": {
  "kernelspec": {
   "display_name": "Python 3 (ipykernel)",
   "language": "python",
   "name": "python3"
  },
  "language_info": {
   "codemirror_mode": {
    "name": "ipython",
    "version": 3
   },
   "file_extension": ".py",
   "mimetype": "text/x-python",
   "name": "python",
   "nbconvert_exporter": "python",
   "pygments_lexer": "ipython3",
   "version": "3.9.7"
  }
 },
 "nbformat": 4,
 "nbformat_minor": 5
}
