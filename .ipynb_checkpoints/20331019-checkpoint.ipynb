{
 "cells": [
  {
   "cell_type": "markdown",
   "id": "5be5638a",
   "metadata": {},
   "source": [
    "# 10.同时运行 N 台电脑的最长时间"
   ]
  },
  {
   "cell_type": "markdown",
   "id": "756fa5d2",
   "metadata": {},
   "source": [
    "### 步骤一：引入库"
   ]
  },
  {
   "cell_type": "code",
   "execution_count": null,
   "id": "217af8d1",
   "metadata": {},
   "outputs": [],
   "source": [
    "import numpy"
   ]
  },
  {
   "cell_type": "markdown",
   "id": "e99c1ddb",
   "metadata": {},
   "source": [
    "### 步骤二：思路"
   ]
  },
  {
   "cell_type": "markdown",
   "id": "3919d2cc",
   "metadata": {},
   "source": [
    "先将数组排序，然后假设有N台电脑，有M块电池  \n",
    "\n",
    "1.N>M,则为0  \n",
    "2.将数组排序  \n",
    "3.按顺序从M数组的最小的N个提出来  \n",
    "4.N个中每一个减去其中最小的元素，总的使用时间加上这个最小元素  \n",
    "5.M右移直到最小位不是零，【右移一位也行，就是慢一点】  \n",
    "6.如果M最右边已经到达了最大，那么就减去最小的元素值就结束了  \n",
    "7.最后的到N台电脑的最长使用时间  "
   ]
  },
  {
   "cell_type": "markdown",
   "id": "a7d6cd41",
   "metadata": {},
   "source": [
    "### 步骤三：排序算法"
   ]
  },
  {
   "cell_type": "code",
   "execution_count": 15,
   "id": "cfdc147d",
   "metadata": {},
   "outputs": [
    {
     "name": "stdout",
     "output_type": "stream",
     "text": [
      "[0, 1, 2, 3, 6, 8, 9]\n"
     ]
    }
   ],
   "source": [
    "#先采用冒泡排序,采用start，end的部分排序\n",
    "\n",
    "def bubbleSort(nums,start,end):\n",
    "    for i in range(start,end):    \n",
    "        for j in range(start,end-i-1):  \n",
    "            if nums[j] > nums[j+1]:\n",
    "                nums[j], nums[j+1] = nums[j+1], nums[j]\n",
    "    return nums\n",
    "\n",
    "\n",
    "nums = [6,8,3,2,9,1,0]\n",
    "start = 0\n",
    "print(bubbleSort(nums,start,start+len(nums)))"
   ]
  },
  {
   "cell_type": "code",
   "execution_count": null,
   "id": "b9600e5f",
   "metadata": {},
   "outputs": [],
   "source": []
  }
 ],
 "metadata": {
  "kernelspec": {
   "display_name": "Python 3 (ipykernel)",
   "language": "python",
   "name": "python3"
  },
  "language_info": {
   "codemirror_mode": {
    "name": "ipython",
    "version": 3
   },
   "file_extension": ".py",
   "mimetype": "text/x-python",
   "name": "python",
   "nbconvert_exporter": "python",
   "pygments_lexer": "ipython3",
   "version": "3.9.7"
  }
 },
 "nbformat": 4,
 "nbformat_minor": 5
}
