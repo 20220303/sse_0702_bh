{
 "cells": [
  {
   "cell_type": "markdown",
   "id": "5be5638a",
   "metadata": {},
   "source": [
    "# 10.同时运行 N 台电脑的最长时间"
   ]
  },
  {
   "cell_type": "markdown",
   "id": "756fa5d2",
   "metadata": {},
   "source": [
    "### 步骤一：引入库"
   ]
  },
  {
   "cell_type": "code",
   "execution_count": null,
   "id": "217af8d1",
   "metadata": {},
   "outputs": [],
   "source": [
    "import numpy"
   ]
  },
  {
   "cell_type": "markdown",
   "id": "e99c1ddb",
   "metadata": {},
   "source": [
    "### 步骤二：思路"
   ]
  },
  {
   "cell_type": "markdown",
   "id": "3919d2cc",
   "metadata": {},
   "source": [
    "先将数组排序，然后假设有N台电脑，有M块电池  \n",
    "\n",
    "1.N>M,则为0  \n",
    "2.将数组排序  \n",
    "3.按顺序从M数组的最小的N个提出来  \n",
    "4.N个中每一个减去其中最小的元素，总的使用时间加上这个最小元素  \n",
    "5.M右移直到最小位不是零，【右移一位也行，就是慢一点】  \n",
    "6.如果M最右边已经到达了最大，那么就减去最小的元素值就结束了  \n",
    "7.最后的到N台电脑的最长使用时间  "
   ]
  },
  {
   "cell_type": "code",
   "execution_count": null,
   "id": "5525004e",
   "metadata": {},
   "outputs": [],
   "source": []
  }
 ],
 "metadata": {
  "kernelspec": {
   "display_name": "Python 3 (ipykernel)",
   "language": "python",
   "name": "python3"
  },
  "language_info": {
   "codemirror_mode": {
    "name": "ipython",
    "version": 3
   },
   "file_extension": ".py",
   "mimetype": "text/x-python",
   "name": "python",
   "nbconvert_exporter": "python",
   "pygments_lexer": "ipython3",
   "version": "3.9.7"
  }
 },
 "nbformat": 4,
 "nbformat_minor": 5
}
